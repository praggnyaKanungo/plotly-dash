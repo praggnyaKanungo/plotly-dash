{
 "cells": [
  {
   "cell_type": "markdown",
   "metadata": {},
   "source": [
    "## Sprint 2: Data\n",
    "\n",
    "Name: Praggnya Kanungo\n",
    "\n",
    "Class: DS 4003\n",
    "\n",
    "Due Date: 3/13/24"
   ]
  },
  {
   "cell_type": "markdown",
   "metadata": {},
   "source": [
    "**--My Beginning of My Assignment--**"
   ]
  },
  {
   "cell_type": "markdown",
   "metadata": {},
   "source": [
    "The dataset I've chosen is the Gapminder Dataset for CO2 emissions per capita Consumption based, tonnes per capita. "
   ]
  },
  {
   "cell_type": "markdown",
   "metadata": {},
   "source": [
    "##### **Downloadiing and Importing My Dataset**"
   ]
  },
  {
   "cell_type": "code",
   "execution_count": 97,
   "metadata": {
    "vscode": {
     "languageId": "powershell"
    }
   },
   "outputs": [
    {
     "name": "stdout",
     "output_type": "stream",
     "text": [
      "Requirement already satisfied: openpyxl in c:\\users\\pragg\\anaconda3\\envs\\ds4003\\lib\\site-packages (3.1.2)\n",
      "Requirement already satisfied: et-xmlfile in c:\\users\\pragg\\anaconda3\\envs\\ds4003\\lib\\site-packages (from openpyxl) (1.1.0)\n",
      "Note: you may need to restart the kernel to use updated packages.\n"
     ]
    }
   ],
   "source": [
    "pip install openpyxl"
   ]
  },
  {
   "cell_type": "code",
   "execution_count": 98,
   "metadata": {},
   "outputs": [],
   "source": [
    "#Praggnya Kanungo\n",
    "#DS 4003 \n",
    "# This is my code for Sprint#2\n",
    "\n",
    "import pandas as pd  \n",
    "# This is the line that imports the pandas library which basically how I will do all of my data activities\n",
    "\n",
    "# This like is a something that reads the CO2 emissions per capita from a CSV file into a pandas df\n",
    "df = pd.read_csv(r\"C:\\Users\\pragg\\Downloads\\co2_pcap_cons.csv\")"
   ]
  },
  {
   "cell_type": "markdown",
   "metadata": {},
   "source": [
    "#### **Purpose of Choosing this Data and Provenance**\n",
    "\n",
    "**Why did I choose this data?:** Personally, the Climate Change has been one of my influencing factors in my urge to be an engineer since I hope to be able to conducts studies on climate change and innovate more sustainable tehcnology that can aid in the human attempts to recover from climate change. Clearly, one of the direct causing factors of climate change and the warming of the Earth are the increasing CO2 Emissions around the world. I looked through multiple sources and spent a significant amount of time looking for an appropriate dataset with CO2 Emissions, with minimal amounts of missing data because I proritized accuracy. My chosen dataset shows CO2 emissions per capita, which are relevant for studies on environmental impact, climate change, and energy policy. I hope to create impact on the user's mind and make them aware of the increasing CO2 emissions, and this is why I used the dataset. While of course there were other datasets with CO2 Emissions data as well, but I realized that many of these datasets had missing values for certain countries or had inconsistly missing values for certain years. I wanted to make sure the dataset I choose already has most, if not all, of its intended values so I can make sure that my dashboard is accurate. Other datasets often only had CO2 emission data for different countries up untilmany years ago, thus they didn't include recent data. The dataset I've chosen was definitely the most appropriate one I found since it includes recent data while also not missing any data. It is a beautiful dataset!\n",
    "\n",
    "**Data Provenance:** The source of this data is from gapminder.com. The source URL is the following: http://gapm.io/dco2_consumption_historic. The data provenance comes from the World Bank. This is one of the many datasets the World Bank offers about countries in order to research and analyze patterns and data related relatioships; its collects this data from the system of countries that agree to be members of this cause. The purpose of collecting CO2 emission per capita data is that helps researchers understand possible implications of the CO2 emissions per capita, and can also encourage further study and analysis on CO2 emission data. Another purpose of collecting this data is to note significant changes in CO2 emissions per capita which could also be success criteria for evaluating the sucess of government levied policies in certain countries."
   ]
  },
  {
   "cell_type": "markdown",
   "metadata": {},
   "source": [
    "#### **In the below code boxes, I have done the data cleaning in parts.** "
   ]
  },
  {
   "cell_type": "markdown",
   "metadata": {},
   "source": [
    "First, I'll try to understand my dataset by running the following code and this will help me decide my next steps in cleaning the data:"
   ]
  },
  {
   "cell_type": "code",
   "execution_count": 99,
   "metadata": {},
   "outputs": [
    {
     "name": "stdout",
     "output_type": "stream",
     "text": [
      "       country   1800   1801   1802   1803   1804   1805   1806   1807   1808  \\\n",
      "0  Afghanistan  0.001  0.001  0.001  0.001  0.001  0.001  0.001  0.001  0.001   \n",
      "1       Angola  0.009  0.009  0.009  0.009  0.009  0.009  0.010  0.010  0.010   \n",
      "2      Albania  0.001  0.001  0.001  0.001  0.001  0.001  0.001  0.001  0.001   \n",
      "3      Andorra  0.333  0.335  0.337  0.340  0.342  0.345  0.347  0.350  0.352   \n",
      "4          UAE  0.063  0.063  0.064  0.064  0.064  0.064  0.065  0.065  0.065   \n",
      "\n",
      "   ...  2013    2014    2015    2016    2017    2018    2019    2020    2021  \\\n",
      "0  ...  0.28   0.253   0.262   0.245   0.247   0.254   0.261   0.261   0.279   \n",
      "1  ...  1.28   1.640   1.220   1.180   1.150   1.120   1.150   1.120   1.200   \n",
      "2  ...  2.27   2.250   2.040   2.010   2.130   2.080   2.050   2.000   2.120   \n",
      "3  ...   5.9   5.830   5.970   6.070   6.270   6.120   6.060   5.630   5.970   \n",
      "4  ...    27  26.800  27.000  26.700  23.900  23.500  21.200  19.700  20.700   \n",
      "\n",
      "     2022  \n",
      "0   0.284  \n",
      "1   1.230  \n",
      "2   2.100  \n",
      "3   5.910  \n",
      "4  21.100  \n",
      "\n",
      "[5 rows x 224 columns]\n",
      "<class 'pandas.core.frame.DataFrame'>\n",
      "RangeIndex: 194 entries, 0 to 193\n",
      "Columns: 224 entries, country to 2022\n",
      "dtypes: float64(216), object(8)\n",
      "memory usage: 339.6+ KB\n",
      "None\n",
      "             1800        1801        1802        1803        1804        1805  \\\n",
      "count  194.000000  194.000000  194.000000  194.000000  194.000000  194.000000   \n",
      "mean     0.064598    0.064809    0.065000    0.063299    0.063649    0.064263   \n",
      "std      0.247499    0.247612    0.247619    0.240778    0.240812    0.245213   \n",
      "min      0.000000    0.000000    0.000000    0.000000    0.000000    0.000000   \n",
      "25%      0.002000    0.002000    0.002000    0.002000    0.002000    0.002000   \n",
      "50%      0.008000    0.008000    0.008000    0.008000    0.008000    0.008000   \n",
      "75%      0.030750    0.029750    0.030000    0.029750    0.031500    0.031750   \n",
      "max      2.480000    2.460000    2.450000    2.720000    2.710000    2.780000   \n",
      "\n",
      "             1806        1807        1808        1809  ...        2010  \\\n",
      "count  194.000000  194.000000  194.000000  194.000000  ...  194.000000   \n",
      "mean     0.065155    0.065603    0.065438    0.065531  ...    4.965778   \n",
      "std      0.252745    0.251445    0.250290    0.248970  ...    5.666261   \n",
      "min      0.000000    0.000000    0.000000    0.000000  ...    0.030000   \n",
      "25%      0.002000    0.002000    0.002000    0.002000  ...    0.648000   \n",
      "50%      0.008000    0.008000    0.008000    0.008000  ...    2.510000   \n",
      "75%      0.031750    0.031750    0.031750    0.031750  ...    7.280000   \n",
      "max      2.900000    2.870000    2.840000    2.810000  ...   26.400000   \n",
      "\n",
      "             2014        2015        2016        2017        2018        2019  \\\n",
      "count  194.000000  194.000000  194.000000  194.000000  194.000000  194.000000   \n",
      "mean     4.897753    4.843969    4.803789    4.803809    4.860165    4.788289   \n",
      "std      5.718032    5.690337    5.578491    5.409427    5.429960    5.349689   \n",
      "min      0.038000    0.037000    0.025000    0.024000    0.024000    0.025000   \n",
      "25%      0.744500    0.835000    0.811250    0.851750    0.940500    0.918500   \n",
      "50%      2.905000    2.675000    2.650000    2.735000    2.725000    2.735000   \n",
      "75%      6.497500    6.285000    6.395000    6.672500    6.812500    6.842500   \n",
      "max     33.900000   29.000000   27.400000   27.000000   28.000000   27.100000   \n",
      "\n",
      "             2020        2021        2022  \n",
      "count  194.000000  194.000000  194.000000  \n",
      "mean     4.514706    4.735814    4.776948  \n",
      "std      5.048280    5.278561    5.342481  \n",
      "min      0.024000    0.026000    0.026000  \n",
      "25%      0.834500    0.892750    0.910000  \n",
      "50%      2.570000    2.745000    2.795000  \n",
      "75%      6.425000    6.880000    6.802500  \n",
      "max     25.600000   26.700000   27.300000  \n",
      "\n",
      "[8 rows x 216 columns]\n",
      "country     object\n",
      "1800       float64\n",
      "1801       float64\n",
      "1802       float64\n",
      "1803       float64\n",
      "            ...   \n",
      "2018       float64\n",
      "2019       float64\n",
      "2020       float64\n",
      "2021       float64\n",
      "2022       float64\n",
      "Length: 224, dtype: object\n"
     ]
    }
   ],
   "source": [
    "# This displays the first few rows of the dataset\n",
    "print(df.head())\n",
    "\n",
    "# This gets me a concise summary of the DataFrame\n",
    "print(df.info())\n",
    "\n",
    "# This will basically summarize statistics for numerical columns\n",
    "print(df.describe())\n",
    "\n",
    "# Here I am just checking the data types\n",
    "print(df.dtypes)\n"
   ]
  },
  {
   "cell_type": "markdown",
   "metadata": {},
   "source": [
    "In every dataset, it is definitely very important to check for missing values. In the context of my dataset and future dashboard, having missing values that aren't handled properly will be disasterous, perhaps causing missinformation or inaccuracy in the visualizations. In the following code I am checking for missing values:"
   ]
  },
  {
   "cell_type": "code",
   "execution_count": 100,
   "metadata": {},
   "outputs": [
    {
     "name": "stdout",
     "output_type": "stream",
     "text": [
      "country    0\n",
      "1800       0\n",
      "1801       0\n",
      "1802       0\n",
      "1803       0\n",
      "          ..\n",
      "2018       0\n",
      "2019       0\n",
      "2020       0\n",
      "2021       0\n",
      "2022       0\n",
      "Length: 224, dtype: int64\n"
     ]
    }
   ],
   "source": [
    "# Here i am checking for missing values \n",
    "print(df.isnull().sum())\n",
    "\n",
    "# after running this, I now know I dont have missing values"
   ]
  },
  {
   "cell_type": "code",
   "execution_count": 101,
   "metadata": {},
   "outputs": [
    {
     "data": {
      "text/html": [
       "<div>\n",
       "<style scoped>\n",
       "    .dataframe tbody tr th:only-of-type {\n",
       "        vertical-align: middle;\n",
       "    }\n",
       "\n",
       "    .dataframe tbody tr th {\n",
       "        vertical-align: top;\n",
       "    }\n",
       "\n",
       "    .dataframe thead th {\n",
       "        text-align: right;\n",
       "    }\n",
       "</style>\n",
       "<table border=\"1\" class=\"dataframe\">\n",
       "  <thead>\n",
       "    <tr style=\"text-align: right;\">\n",
       "      <th></th>\n",
       "      <th>country</th>\n",
       "      <th>year</th>\n",
       "      <th>co2_per_capita</th>\n",
       "    </tr>\n",
       "  </thead>\n",
       "  <tbody>\n",
       "    <tr>\n",
       "      <th>0</th>\n",
       "      <td>Afghanistan</td>\n",
       "      <td>1800</td>\n",
       "      <td>0.001</td>\n",
       "    </tr>\n",
       "    <tr>\n",
       "      <th>1</th>\n",
       "      <td>Angola</td>\n",
       "      <td>1800</td>\n",
       "      <td>0.009</td>\n",
       "    </tr>\n",
       "    <tr>\n",
       "      <th>2</th>\n",
       "      <td>Albania</td>\n",
       "      <td>1800</td>\n",
       "      <td>0.001</td>\n",
       "    </tr>\n",
       "    <tr>\n",
       "      <th>3</th>\n",
       "      <td>Andorra</td>\n",
       "      <td>1800</td>\n",
       "      <td>0.333</td>\n",
       "    </tr>\n",
       "    <tr>\n",
       "      <th>4</th>\n",
       "      <td>UAE</td>\n",
       "      <td>1800</td>\n",
       "      <td>0.063</td>\n",
       "    </tr>\n",
       "  </tbody>\n",
       "</table>\n",
       "</div>"
      ],
      "text/plain": [
       "       country  year co2_per_capita\n",
       "0  Afghanistan  1800          0.001\n",
       "1       Angola  1800          0.009\n",
       "2      Albania  1800          0.001\n",
       "3      Andorra  1800          0.333\n",
       "4          UAE  1800          0.063"
      ]
     },
     "execution_count": 101,
     "metadata": {},
     "output_type": "execute_result"
    }
   ],
   "source": [
    "# here I am reshaping the data from wide to long format\n",
    "# I need to do this to first of all more easily use my data for my dashboard later but also to make sure this data set is as clean and tidy as possible\n",
    "df_long = pd.melt(df, id_vars=['country'], var_name='year', value_name='co2_per_capita')\n",
    "\n",
    "#just looking at the first five rows to see if I was sucessful\n",
    "df_long.head()"
   ]
  },
  {
   "cell_type": "code",
   "execution_count": 102,
   "metadata": {},
   "outputs": [],
   "source": [
    "# Here I am converting 'year' to numeric, and I tell it to coerce errors to NaN\n",
    "df_long['year'] = pd.to_numeric(df_long['year'], errors='coerce')\n",
    "\n",
    "# here I am converting 'co2_per_capita' to numeric, and I tell it to coerce errors to NaN\n",
    "df_long['co2_per_capita'] = pd.to_numeric(df_long['co2_per_capita'], errors='coerce')\n",
    "\n",
    "# Now, I can handles NaNs if I need to by dropping them since I will not be replaning NaN with values I adjust (like simply replacing with the median) \n",
    "# since I want my data and dashboard to be as accruate as possible. Therefore, if these is NaN values, I will unfornately have to drop it\n",
    "df_long = df_long.dropna(subset=['year', 'co2_per_capita'])\n",
    "\n",
    "df_cleaned = df_long[['country', 'year', 'co2_per_capita']].copy()\n"
   ]
  },
  {
   "cell_type": "code",
   "execution_count": 103,
   "metadata": {},
   "outputs": [
    {
     "data": {
      "text/html": [
       "<div>\n",
       "<style scoped>\n",
       "    .dataframe tbody tr th:only-of-type {\n",
       "        vertical-align: middle;\n",
       "    }\n",
       "\n",
       "    .dataframe tbody tr th {\n",
       "        vertical-align: top;\n",
       "    }\n",
       "\n",
       "    .dataframe thead th {\n",
       "        text-align: right;\n",
       "    }\n",
       "</style>\n",
       "<table border=\"1\" class=\"dataframe\">\n",
       "  <thead>\n",
       "    <tr style=\"text-align: right;\">\n",
       "      <th></th>\n",
       "      <th>country</th>\n",
       "      <th>year</th>\n",
       "      <th>co2_per_capita</th>\n",
       "    </tr>\n",
       "  </thead>\n",
       "  <tbody>\n",
       "    <tr>\n",
       "      <th>0</th>\n",
       "      <td>Afghanistan</td>\n",
       "      <td>1800</td>\n",
       "      <td>0.001</td>\n",
       "    </tr>\n",
       "    <tr>\n",
       "      <th>1</th>\n",
       "      <td>Angola</td>\n",
       "      <td>1800</td>\n",
       "      <td>0.009</td>\n",
       "    </tr>\n",
       "    <tr>\n",
       "      <th>2</th>\n",
       "      <td>Albania</td>\n",
       "      <td>1800</td>\n",
       "      <td>0.001</td>\n",
       "    </tr>\n",
       "    <tr>\n",
       "      <th>3</th>\n",
       "      <td>Andorra</td>\n",
       "      <td>1800</td>\n",
       "      <td>0.333</td>\n",
       "    </tr>\n",
       "    <tr>\n",
       "      <th>4</th>\n",
       "      <td>UAE</td>\n",
       "      <td>1800</td>\n",
       "      <td>0.063</td>\n",
       "    </tr>\n",
       "  </tbody>\n",
       "</table>\n",
       "</div>"
      ],
      "text/plain": [
       "       country  year  co2_per_capita\n",
       "0  Afghanistan  1800           0.001\n",
       "1       Angola  1800           0.009\n",
       "2      Albania  1800           0.001\n",
       "3      Andorra  1800           0.333\n",
       "4          UAE  1800           0.063"
      ]
     },
     "execution_count": 103,
     "metadata": {},
     "output_type": "execute_result"
    }
   ],
   "source": [
    "# Here I am converting 'country' to categorical variables\n",
    "df_cleaned['country'] = df_cleaned['country'].astype('category')\n",
    "\n",
    "df_cleaned.head()"
   ]
  },
  {
   "cell_type": "code",
   "execution_count": 104,
   "metadata": {},
   "outputs": [
    {
     "data": {
      "text/html": [
       "<div>\n",
       "<style scoped>\n",
       "    .dataframe tbody tr th:only-of-type {\n",
       "        vertical-align: middle;\n",
       "    }\n",
       "\n",
       "    .dataframe tbody tr th {\n",
       "        vertical-align: top;\n",
       "    }\n",
       "\n",
       "    .dataframe thead th {\n",
       "        text-align: right;\n",
       "    }\n",
       "</style>\n",
       "<table border=\"1\" class=\"dataframe\">\n",
       "  <thead>\n",
       "    <tr style=\"text-align: right;\">\n",
       "      <th></th>\n",
       "      <th>country</th>\n",
       "      <th>year</th>\n",
       "      <th>co2_per_capita</th>\n",
       "    </tr>\n",
       "  </thead>\n",
       "  <tbody>\n",
       "    <tr>\n",
       "      <th>0</th>\n",
       "      <td>Afghanistan</td>\n",
       "      <td>1800</td>\n",
       "      <td>0.001</td>\n",
       "    </tr>\n",
       "    <tr>\n",
       "      <th>1</th>\n",
       "      <td>Angola</td>\n",
       "      <td>1800</td>\n",
       "      <td>0.009</td>\n",
       "    </tr>\n",
       "    <tr>\n",
       "      <th>2</th>\n",
       "      <td>Albania</td>\n",
       "      <td>1800</td>\n",
       "      <td>0.001</td>\n",
       "    </tr>\n",
       "    <tr>\n",
       "      <th>3</th>\n",
       "      <td>Andorra</td>\n",
       "      <td>1800</td>\n",
       "      <td>0.333</td>\n",
       "    </tr>\n",
       "    <tr>\n",
       "      <th>4</th>\n",
       "      <td>UAE</td>\n",
       "      <td>1800</td>\n",
       "      <td>0.063</td>\n",
       "    </tr>\n",
       "  </tbody>\n",
       "</table>\n",
       "</div>"
      ],
      "text/plain": [
       "       country  year  co2_per_capita\n",
       "0  Afghanistan  1800           0.001\n",
       "1       Angola  1800           0.009\n",
       "2      Albania  1800           0.001\n",
       "3      Andorra  1800           0.333\n",
       "4          UAE  1800           0.063"
      ]
     },
     "execution_count": 104,
     "metadata": {},
     "output_type": "execute_result"
    }
   ],
   "source": [
    "# If you want to set 'country' as index for df_cleaned\n",
    "#df_cleaned.set_index('country', inplace=True)\n",
    "\n",
    "df_cleaned.head()\n"
   ]
  },
  {
   "cell_type": "code",
   "execution_count": 105,
   "metadata": {},
   "outputs": [],
   "source": [
    "# I am saving the cleaned data to CSV\n",
    "df_cleaned.to_csv('data.csv', index=False)\n",
    "\n",
    "# I am saving the cleaned data to Excel\n",
    "df_cleaned.to_excel('data.xlsx', index=False)"
   ]
  },
  {
   "cell_type": "markdown",
   "metadata": {},
   "source": [
    "#### **Exploratory Analysis of My Data (Including a Data Dictionary at the end)**"
   ]
  },
  {
   "cell_type": "markdown",
   "metadata": {},
   "source": [
    "The following is my code for the Exploratory Analysis of my cleaned dataset."
   ]
  },
  {
   "cell_type": "code",
   "execution_count": 107,
   "metadata": {},
   "outputs": [],
   "source": [
    "# this code is for my exploratory analysis\n",
    "\n",
    "import matplotlib.pyplot as plt\n",
    "import pandas as pd  \n",
    "# This is the line that imports the pandas library which basically how I will do all of my data activities\n",
    "\n",
    "# This like is a something that reads the CO2 emissions per capita from a CSV file into a pandas df\n",
    "df1 = pd.read_csv(r\"C:\\Users\\pragg\\Downloads\\A4_student\\A4_student\\data.csv\")\n"
   ]
  },
  {
   "cell_type": "markdown",
   "metadata": {},
   "source": [
    "I used .info() to begin my exploratory analysis."
   ]
  },
  {
   "cell_type": "code",
   "execution_count": 108,
   "metadata": {},
   "outputs": [
    {
     "name": "stdout",
     "output_type": "stream",
     "text": [
      "<class 'pandas.core.frame.DataFrame'>\n",
      "RangeIndex: 43255 entries, 0 to 43254\n",
      "Data columns (total 3 columns):\n",
      " #   Column          Non-Null Count  Dtype  \n",
      "---  ------          --------------  -----  \n",
      " 0   country         43255 non-null  object \n",
      " 1   year            43255 non-null  int64  \n",
      " 2   co2_per_capita  43255 non-null  float64\n",
      "dtypes: float64(1), int64(1), object(1)\n",
      "memory usage: 1013.9+ KB\n"
     ]
    }
   ],
   "source": [
    "# I am using .info to get a concise summary of the DataFrame\n",
    "df1.info()"
   ]
  },
  {
   "cell_type": "markdown",
   "metadata": {},
   "source": [
    "Below with the code, I am trying to address the following question: **How many observations are in the dataset?** "
   ]
  },
  {
   "cell_type": "code",
   "execution_count": 109,
   "metadata": {},
   "outputs": [
    {
     "name": "stdout",
     "output_type": "stream",
     "text": [
      "\n",
      "Number of observations: 43255\n"
     ]
    }
   ],
   "source": [
    "# I am checking the number of observations which is the number of rows  in my dataset\n",
    "# df1 is my cleaned DataFrame\n",
    "num_observations = df1.shape[0]\n",
    "print(f'\\nNumber of observations: {num_observations}')\n",
    "# the print statement prints the following: Number of observations: 43255"
   ]
  },
  {
   "cell_type": "markdown",
   "metadata": {},
   "source": [
    "Below with the code, I am trying to address the following question: **How many different countries does my cleaned dataset have information about? In order words, how many unique values are in the 'country' categorical value?** "
   ]
  },
  {
   "cell_type": "code",
   "execution_count": 110,
   "metadata": {},
   "outputs": [
    {
     "name": "stdout",
     "output_type": "stream",
     "text": [
      "Number of unique countries: 194\n"
     ]
    }
   ],
   "source": [
    "# Here I am assuming 'country' is now a categorical type and trying to see how many unique country values there are\n",
    "unique_countries = df1['country'].nunique()\n",
    "print(f'Number of unique countries: {unique_countries}')"
   ]
  },
  {
   "cell_type": "markdown",
   "metadata": {},
   "source": [
    "Below with the code, I am trying to address the following question: **How much missing data is in each column?** "
   ]
  },
  {
   "cell_type": "code",
   "execution_count": 111,
   "metadata": {},
   "outputs": [
    {
     "name": "stdout",
     "output_type": "stream",
     "text": [
      "\n",
      "Missing data per column:\n",
      "country           0\n",
      "year              0\n",
      "co2_per_capita    0\n",
      "dtype: int64\n"
     ]
    }
   ],
   "source": [
    "# Here I am ensuring and double checking out od precautious to see if there are missing data per variable (column)\n",
    "missing_data_per_variable = df1.isnull().sum()\n",
    "print(\"\\nMissing data per column:\")\n",
    "print(missing_data_per_variable)"
   ]
  },
  {
   "cell_type": "markdown",
   "metadata": {},
   "source": [
    "Below with the code, I am trying to address the following question: **What is the distribution of co2_per_capita?**"
   ]
  },
  {
   "cell_type": "code",
   "execution_count": 112,
   "metadata": {},
   "outputs": [
    {
     "name": "stdout",
     "output_type": "stream",
     "text": [
      "\n",
      "The below histogram shows the distribution of CO2 per capita:\n"
     ]
    },
    {
     "data": {
      "image/png": "[encoded data removed]",
      "text/plain": [
       "<Figure size 1000x600 with 1 Axes>"
      ]
     },
     "metadata": {},
     "output_type": "display_data"
    }
   ],
   "source": [
    "# It is important for me to see the distributions of 'co2_per_capita' in order to understand what type of an influence I can make with my dashboard\n",
    "# it would also help me understand my owncode well\n",
    "\n",
    "# I used plotly\n",
    "plt.figure(figsize=(10, 6))  \n",
    "df1['co2_per_capita'].hist(bins=50)  \n",
    "\n",
    "# here I am adding labels and title\n",
    "plt.xlabel('CO2 Emissions Per Capita (metric tons)')\n",
    "plt.ylabel('Frequency')\n",
    "plt.title('Distribution of CO2 Emissions Per Capita')\n",
    "\n",
    "# I want to show the gird\n",
    "plt.grid(True)\n",
    "\n",
    "print(\"\\nThe below histogram shows the distribution of CO2 per capita:\")\n",
    "# here I am finally displaying the plot\n",
    "plt.show()\n"
   ]
  },
  {
   "cell_type": "markdown",
   "metadata": {},
   "source": [
    "##### Summary of Exploratory Analysis\n",
    "\n",
    "My exploratory analysis considers the following questions:\n",
    "- **How many observations are in the dataset?** According to the analysis, there are 43255 observations in this dataset. Observations in this case means the number of rows. Each of these observations include a country paired with a year and the co2 emissions per capita data for that in country in that year. \n",
    "- **How many different countries does my cleaned dataset have information about? In order words, how many unique values are in the 'country' categorical value?** There are 194 unique countries in this dataset. That means my future dashboard made using this data will be able to accurately represent CO2 emission datas for 194 countries. \n",
    "- **How much missing data is in each column?** According to the analysis conducted below, none of the columns have any missing values. This was something I definitely aimed to ensure in my data cleaning since in order for my dashboard to be sucessful and useful, I can not allow it to have fake data or 'adjusted data' (such as simply replacing all missing values with the median of the column, etc.) about CO2 emissions but I also can not allow data to be missing because missing data would unaccurately change the graphs that will be part of my data visualization. \n",
    "- **What is the distribution of co2_per_capita?** It is important for me to see the distribution of the CO2 emissions per capita numerically (regardless of year or country) just so as a data scientist I have an idea of the range the CO2 per capita measurements span and what most of these measurements are! In order to analyze this, in my exploratory analysis, I've made a histogram using plotly which successfuly shows the distribution of the CO2 per capita measurements. In this histogram, I see that an extreme amount of these measurements are between 1 and 10 metric tons. However, there are also countries who have higher emissions than this common range, also shown by the histogram.\n",
    "- Along with that, my exploratory analysis also used .info() to see basic information about the dataset so I could make better choices of what to analyze about it."
   ]
  },
  {
   "cell_type": "markdown",
   "metadata": {},
   "source": [
    "Please run the following code to view my **Data Dictionary**:"
   ]
  },
  {
   "cell_type": "code",
   "execution_count": 96,
   "metadata": {},
   "outputs": [
    {
     "data": {
      "text/html": [
       "<div>\n",
       "<style scoped>\n",
       "    .dataframe tbody tr th:only-of-type {\n",
       "        vertical-align: middle;\n",
       "    }\n",
       "\n",
       "    .dataframe tbody tr th {\n",
       "        vertical-align: top;\n",
       "    }\n",
       "\n",
       "    .dataframe thead th {\n",
       "        text-align: right;\n",
       "    }\n",
       "</style>\n",
       "<table border=\"1\" class=\"dataframe\">\n",
       "  <thead>\n",
       "    <tr style=\"text-align: right;\">\n",
       "      <th></th>\n",
       "      <th>Variables</th>\n",
       "      <th>Data Type</th>\n",
       "      <th>Description</th>\n",
       "    </tr>\n",
       "  </thead>\n",
       "  <tbody>\n",
       "    <tr>\n",
       "      <th>0</th>\n",
       "      <td>country</td>\n",
       "      <td>String</td>\n",
       "      <td>name of the country</td>\n",
       "    </tr>\n",
       "    <tr>\n",
       "      <th>1</th>\n",
       "      <td>year</td>\n",
       "      <td>Integer</td>\n",
       "      <td>the year of the observation of this data</td>\n",
       "    </tr>\n",
       "    <tr>\n",
       "      <th>2</th>\n",
       "      <td>co2_per_capita</td>\n",
       "      <td>Float</td>\n",
       "      <td>the CO2 emissions per capita of the given coun...</td>\n",
       "    </tr>\n",
       "  </tbody>\n",
       "</table>\n",
       "</div>"
      ],
      "text/plain": [
       "        Variables Data Type                                        Description\n",
       "0         country    String                                name of the country\n",
       "1            year   Integer           the year of the observation of this data\n",
       "2  co2_per_capita     Float  the CO2 emissions per capita of the given coun..."
      ]
     },
     "execution_count": 96,
     "metadata": {},
     "output_type": "execute_result"
    }
   ],
   "source": [
    "import pandas as pd\n",
    "\n",
    "# First I have to creating a DataFrame\n",
    "dataDictionary = {\n",
    "    'Variables': [\"country\", \"year\", \"co2_per_capita\"],\n",
    "    'Data Type': ['String', 'Integer', 'Float'],\n",
    "    'Description': ['name of the country', 'the year of the observation of this data', 'the CO2 emissions per capita of the given country in a given year ']\n",
    "}\n",
    "dataDictionary = pd.DataFrame(data)\n",
    "\n",
    "# I am displaying the DataFrame\n",
    "dataDictionary\n"
   ]
  },
  {
   "cell_type": "markdown",
   "metadata": {},
   "source": [
    "In case you have trouble viewing the above Data Dictionary propery, here is the data dictionary typed out:\n",
    "\n",
    "| Variables | Data Type | Description |\n",
    "|----------|----------|----------|\n",
    "| country | String | name of the country |\n",
    "| year | Integer | the year of the observation of this data |\n",
    "| co2_per_capita | Float | the CO2 emissions per capita of the given country in a given year |\n"
   ]
  },
  {
   "cell_type": "markdown",
   "metadata": {},
   "source": [
    "#### **List of UI Components + List of Data Visualizations**"
   ]
  },
  {
   "cell_type": "markdown",
   "metadata": {},
   "source": [
    "**Summary of My Idea:**\n",
    "My idea for the dashboard is to create an interactive dashboard that helps users see the huge increase in CO2 levels. In the dashboard, there will be different modes such as the following: \"worldview\" where you see a line graph with all the different countries and their CO2 emissions throughout the years (the years are customizable with a slider) and also a Histogram for the distribution of CO2 emission per capita data (regardless of country or year) on the worldview mode to show the users numerically what the CO2 emissions per capita data tends to be (more frequent measurements vs least frequent measurements) so they can see how frequently high CO2 emissions per capita are recorded; then \" single country view\" where you see can see a country of your choice's individual CO2 emissions data over the years (the years are customizable with a slider) in a line graph with some written basic information about the country on the right (this is something I would have to manual type in and is not part of my dataset), along with a box and whiskers plot that shows the distribution of the CO2 Emissions per capita data of this country ; then \"multiple country view\" where users can select multiple countries and view their CO2 emissions per capita over the year (the years are customizable) on a line graph, and on the side the dashboard will display the country with the lowest CO2 emissions in a year and the country with the highest CO2 emissionper capita in a year, and also there will be a Violin plot to compare the distributions of CO2 Emissions per capita data for different countries (the same countries that will be displayed on the line graph in multiple country view); I will also have a \"year view\" where users can pick a year and see all the country CO2 emissions per capita for that year displayed in a bar graph.\n",
    "\n",
    "\n",
    "\n",
    "**List of UI components that I could include in the dashboard:** \n",
    "- Chained Radio Buttons for selecting the mode of analysis: worldview, multi-country view, single country view, or single year view. Depending on what the user clicks, the other next steps and options fo selections will change.\n",
    "- Multi-Select Dropdown Menu for selecting countries for whom the user would like see the CO2 emissions per Capita (in Multiple Country View)\n",
    "- Single-Select Dropdown Menu for selecting country for whom the user would like see the CO2 emissions per Capita (in Single Country View)\n",
    "- Single-Select Dropdown Menu for selecting year for whom the user would like see the CO2 emissions per Capita in different countries (in Year View)\n",
    "- Range Slider for selecting the range of years to display data for (In all the different views/modes)\n",
    "- Using Markdown for the Title\n",
    "- I can use Markdown text to provide a description of the dashboard and the different modes right below the title of the dashboard.\n",
    "- Card to be used in single country view and multiple country view (with text of country with lowest emission and also with text of the country with highest emission)\n",
    "\n",
    "**3-6 possible data visualizations:** \n",
    "- Multiple Line Graphs for different visualizations filtered using multi-select dropdowns to select the countries to view (and single select dropdown for single country view) and a range slider to select what years to display data for:\n",
    "    - worldview- the lines represent all the different countries, x is years, and y is the CO2 emissions per capita\n",
    "    - single country view- the line represents the chosen country, x is years, and y is the CO2 emissions per capita\n",
    "    - multiple country view- - the lines represent the different chosen countries, x is years, and y is the CO2 emissions per capita\n",
    "- Bar graph for year view (representing CO2 emissions per capita of the countries in a given year)- this will be filtered using a single select dropdown for the user to pick a year\n",
    "- A Histogram for the distribution of CO2 emission per capita data (regardless of country or year, simply just to show users how often high CO2 per capita levels are recorded in this dataset) on the worldview mode\n",
    "- Box and Whiskers Plot to show the CO2 Emissions per capita data distribution for that country in single country view - this can be filtered using the single select drop down in single country view\n",
    "- Violin Plot to compare the distributions of CO2 Emissions per capita data for different countries in multiple country view- this can be filtered using the multi-select drop down for multiple country view"
   ]
  },
  {
   "cell_type": "markdown",
   "metadata": {},
   "source": [
    "*End of assignment.*\n",
    "\n",
    "Praggnya Kanungo\n",
    " \n",
    "DS 4003"
   ]
  }
 ],
 "metadata": {
  "kernelspec": {
   "display_name": "ds4003",
   "language": "python",
   "name": "python3"
  },
  "language_info": {
   "codemirror_mode": {
    "name": "ipython",
    "version": 3
   },
   "file_extension": ".py",
   "mimetype": "text/x-python",
   "name": "python",
   "nbconvert_exporter": "python",
   "pygments_lexer": "ipython3",
   "version": "3.8.18"
  }
 },
 "nbformat": 4,
 "nbformat_minor": 2
}
